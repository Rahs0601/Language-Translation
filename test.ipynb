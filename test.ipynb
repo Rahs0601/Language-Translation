{
 "cells": [
  {
   "cell_type": "code",
   "execution_count": 18,
   "metadata": {},
   "outputs": [],
   "source": [
    "from deep_translator import GoogleTranslator\n",
    "\n"
   ]
  },
  {
   "cell_type": "code",
   "execution_count": 19,
   "metadata": {},
   "outputs": [],
   "source": [
    "f = open(\"D:\\ACoding\\Language-Translation\\Seq2Seq-Machine-Translation-Model-Kannada-to-English\\Senario.txt\", \"r\")"
   ]
  },
  {
   "cell_type": "code",
   "execution_count": 20,
   "metadata": {},
   "outputs": [
    {
     "data": {
      "text/plain": [
       "\"I can't go with you.\\nI'm sorry, I can't go with you right now.\\nI haven't been able to go with you.\\nI haven't been able to go with you for a while.\\nI couldn't go with you.\\nI was unable to go with you at that time.\\nI hadn't been able to go with you before.\\nI hadn't been able to go with you for a while before we finally went together.\\nI won't be able to go with you.\\nI will be unable to go with you at that time.\\nI will not have been able to go with you by then.\\nI will not have been able to go with you for a while by then.\\nI don't have a key.\\nI'm sorry, I can't let you in right now. I don't have a key.\\nI haven't had a key.\\nI haven't been having a key for a while.\\nI didn't have a key.\\nI wasn't having a key at that time.\\nI hadn't had a key before.\\nI hadn't been having a key for a while before I finally got one.\\nI won't have a key.\\nI will not be having a key at that time.\\nI will not have had a key by then.\\nI will not have been having a key for a while by then.\\nI'm not really an expert.\\nI'm sorry, I can't help you right now. I'm not really an expert in this area.\\nI haven't really been an expert.\\nI haven't really been being an expert for a while.\\nI wasn't really an expert.\\nI wasn't really being an expert at that time.\\nI hadn't really been an expert before.\\nI hadn't really been being an expert for a while before I finally became one.\\nI won't really be an expert.\\nI will not really be being an expert at that time.\\nI will not really have been an expert by then.\\nI will not really have been being an expert for a while by then.\\nYou didn't seem very pleased.\\nYou haven't seemed very pleased.\\nYou weren't seeming very pleased.\\nYou weren't appearing very pleased.\\nYou hadn't seemed very pleased before.\\nYou won't seem very pleased.\\nYou won't be seeming very pleased.\\nYou won't appear very pleased.\\nYou won't have seemed very pleased by then.\\nYou will not seem very pleased.\\nHe thought he was so great.\\nHe didn't think he was so great.\\nHe hasn't thought he was so great.\\nHe wasn't thinking he was so great.\\nHe hadn't thought he was so great before.\\nHe won't think he's so great.\\nHe will not think he's so great.\\nHe will not have thought he was so great by then.\\nWe were dedicated.\\nWe have been dedicated.\\nWe had been dedicated.\\nWe will be dedicated.\\nWe will have been dedicated.\\nWe would be dedicated.\\nWe would have been dedicated.\\nWe are not dedicated.\\nWe were not dedicated.\\nWe have not been dedicated.\\nWe will not be dedicated.\\nWe will not have been dedicated.\\nShe is watching the dead leaves fall.\\nShe has been watching the dead leaves fall.\\nShe had been watching the dead leaves fall.\\nShe will be watching the dead leaves fall.\\nShe will have been watching the dead leaves fall.\\nShe would be watching the dead leaves fall.\\nShe would have been watching the dead leaves fall.\\nShe watches the dead leaves fall.\\nShe watched the dead leaves fall.\\nShe will watch the dead leaves fall.\\nShe has watched the dead leaves fall.\\nShe had watched the dead leaves fall.\\nYou need to sober up.\\nYou needed to sober up.\\nYou will need to sober up.\\nYou would need to sober up.\\nYou have needed to sober up.\\nYou had needed to sober up.\\nYou will have needed to sober up.\\nYou would have needed to sober up.\\nYou are needing to sober up.\\nYou were needing to sober up.\\nYou will be needing to sober up.\\nYou would be needing to sober up.\\nI have to stop.\\nI had to stop.\\nI will have to stop.\\nI would have to stop.\\nI have had to stop.\\nI had had to stop.\\nI will have had to stop.\\nI would have had to stop.\\nI am having to stop.\\nI was having to stop.\\nI will be having to stop.\\nI would be having to stop.\""
      ]
     },
     "execution_count": 20,
     "metadata": {},
     "output_type": "execute_result"
    }
   ],
   "source": [
    "f.read()"
   ]
  },
  {
   "cell_type": "code",
   "execution_count": 21,
   "metadata": {},
   "outputs": [],
   "source": [
    "# read each line in the file and translate it to kannada and add it to the file\n",
    "for line in f:\n",
    "    f = open(\"D:\\ACoding\\Language-Translation\\Seq2Seq-Machine-Translation-Model-Kannada-to-English\\Senario.txt\", \"a\")\n",
    "    text = GoogleTranslator(source=\"en\", target=\"kn\").translate(line)\n",
    "    f.append(line +\" \"+text)\n",
    "    \n"
   ]
  },
  {
   "cell_type": "code",
   "execution_count": 22,
   "metadata": {},
   "outputs": [
    {
     "data": {
      "text/plain": [
       "''"
      ]
     },
     "execution_count": 22,
     "metadata": {},
     "output_type": "execute_result"
    }
   ],
   "source": [
    "f.read()"
   ]
  },
  {
   "cell_type": "code",
   "execution_count": 23,
   "metadata": {},
   "outputs": [],
   "source": [
    "f.close()"
   ]
  },
  {
   "cell_type": "code",
   "execution_count": null,
   "metadata": {},
   "outputs": [],
   "source": []
  }
 ],
 "metadata": {
  "kernelspec": {
   "display_name": "base",
   "language": "python",
   "name": "python3"
  },
  "language_info": {
   "codemirror_mode": {
    "name": "ipython",
    "version": 3
   },
   "file_extension": ".py",
   "mimetype": "text/x-python",
   "name": "python",
   "nbconvert_exporter": "python",
   "pygments_lexer": "ipython3",
   "version": "3.7.6"
  },
  "orig_nbformat": 4,
  "vscode": {
   "interpreter": {
    "hash": "613dc029a46e9ef93abc1adcabc6a0d6fe7c5c6bc05621e88f0f12d23095f2ac"
   }
  }
 },
 "nbformat": 4,
 "nbformat_minor": 2
}
