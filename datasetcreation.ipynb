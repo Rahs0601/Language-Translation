{
 "cells": [
  {
   "cell_type": "code",
   "execution_count": 86,
   "metadata": {},
   "outputs": [
    {
     "name": "stdout",
     "output_type": "stream",
     "text": [
      "Defaulting to user installation because normal site-packages is not writeable\n",
      "Requirement already satisfied: deep-translator in /home/rahul/.local/lib/python3.10/site-packages (1.9.0)\n",
      "Requirement already satisfied: requests<3.0.0,>=2.23.0 in /usr/lib/python3.10/site-packages (from deep-translator) (2.28.1)\n",
      "Requirement already satisfied: beautifulsoup4<5.0.0,>=4.9.1 in /home/rahul/.local/lib/python3.10/site-packages (from deep-translator) (4.11.1)\n",
      "Requirement already satisfied: soupsieve>1.2 in /home/rahul/.local/lib/python3.10/site-packages (from beautifulsoup4<5.0.0,>=4.9.1->deep-translator) (2.3.2.post1)\n",
      "Requirement already satisfied: idna<4,>=2.5 in /home/rahul/.local/lib/python3.10/site-packages (from requests<3.0.0,>=2.23.0->deep-translator) (2.10)\n",
      "Requirement already satisfied: urllib3<1.27,>=1.21.1 in /usr/lib/python3.10/site-packages (from requests<3.0.0,>=2.23.0->deep-translator) (1.26.12)\n"
     ]
    }
   ],
   "source": [
    "!pip install -U deep-translator"
   ]
  },
  {
   "cell_type": "code",
   "execution_count": 71,
   "metadata": {},
   "outputs": [],
   "source": [
    "input_texts=[]\n",
    "target_texts=[]\n",
    "input_characters=set()\n",
    "target_characters=set()"
   ]
  },
  {
   "cell_type": "code",
   "execution_count": 93,
   "metadata": {},
   "outputs": [],
   "source": [
    "with open('eng-french.txt','r',encoding='utf-8') as f:\n",
    "    rows=f.read().split('\\n')\n",
    "#read first 10,000 rows from dataset     "
   ]
  },
  {
   "cell_type": "code",
   "execution_count": 94,
   "metadata": {},
   "outputs": [
    {
     "data": {
      "text/plain": [
       "149864"
      ]
     },
     "execution_count": 94,
     "metadata": {},
     "output_type": "execute_result"
    }
   ],
   "source": [
    "len(rows)"
   ]
  },
  {
   "cell_type": "code",
   "execution_count": 95,
   "metadata": {},
   "outputs": [],
   "source": [
    "rows = list(set(rows))"
   ]
  },
  {
   "cell_type": "code",
   "execution_count": 96,
   "metadata": {},
   "outputs": [
    {
     "data": {
      "text/plain": [
       "149837"
      ]
     },
     "execution_count": 96,
     "metadata": {},
     "output_type": "execute_result"
    }
   ],
   "source": [
    "len(rows)"
   ]
  },
  {
   "cell_type": "code",
   "execution_count": 74,
   "metadata": {},
   "outputs": [],
   "source": [
    "input_text,target_text = rows[0].split('\\t')"
   ]
  },
  {
   "cell_type": "code",
   "execution_count": 75,
   "metadata": {},
   "outputs": [
    {
     "data": {
      "text/plain": [
       "'ನಾನು ನಿನ್ನನ್ನು ಪ್ರೀತಿಸುತ್ತೇನೆ'"
      ]
     },
     "execution_count": 75,
     "metadata": {},
     "output_type": "execute_result"
    }
   ],
   "source": [
    "from deep_translator import GoogleTranslator\n",
    "GoogleTranslator(source='auto', target='kannada').translate(\"I love you\") "
   ]
  },
  {
   "cell_type": "code",
   "execution_count": 76,
   "metadata": {},
   "outputs": [],
   "source": [
    "\n",
    "def translate(text):\n",
    "    return GoogleTranslator(source='auto', target='kannada').translate(text)"
   ]
  },
  {
   "cell_type": "code",
   "execution_count": 85,
   "metadata": {},
   "outputs": [
    {
     "name": "stdout",
     "output_type": "stream",
     "text": [
      "Go.\n",
      "ಹೋಗು.\n",
      "Run!\n",
      "ಓಡು!\n",
      "Run!\n",
      "ಓಡು!\n",
      "Wow!\n",
      "ಅದ್ಭುತ!\n",
      "Fire!\n",
      "ಬೆಂಕಿ!\n"
     ]
    }
   ],
   "source": [
    "EnKa=''\n",
    "for row in rows[:5]:\n",
    "    #split input and target by '\\t'=tab\n",
    "    # print(row.index())\n",
    "    input_text,target_text = row.split('\\t')\n",
    "    print(input_text)\n",
    "    target_text = translate(input_text)\n",
    "    print(target_text)\n",
    "    #Join the input text with the translated text\n",
    "    # print(\"\"+input text +\" -->\"+ target_text)\n",
    "    EnKa += input_text + '\\t' + target_text + '\\n'\n",
    "    # create a new file with the translated text\n",
    "    "
   ]
  },
  {
   "cell_type": "code",
   "execution_count": 84,
   "metadata": {},
   "outputs": [
    {
     "data": {
      "text/plain": [
       "'Go.\\tಹೋಗು.\\nRun!\\tಓಡು!\\nRun!\\tಓಡು!\\nWow!\\tಅದ್ಭುತ!\\nFire!\\tಬೆಂಕಿ!\\n'"
      ]
     },
     "execution_count": 84,
     "metadata": {},
     "output_type": "execute_result"
    }
   ],
   "source": [
    "EnKa"
   ]
  },
  {
   "cell_type": "code",
   "execution_count": 87,
   "metadata": {},
   "outputs": [],
   "source": [
    "with open('eng-kannada.txt','w',encoding='utf-8') as f:\n",
    "    f.write(EnKa)"
   ]
  }
 ],
 "metadata": {
  "kernelspec": {
   "display_name": "Python 3.10.8 64-bit",
   "language": "python",
   "name": "python3"
  },
  "language_info": {
   "codemirror_mode": {
    "name": "ipython",
    "version": 3
   },
   "file_extension": ".py",
   "mimetype": "text/x-python",
   "name": "python",
   "nbconvert_exporter": "python",
   "pygments_lexer": "ipython3",
   "version": "3.10.8"
  },
  "orig_nbformat": 4,
  "vscode": {
   "interpreter": {
    "hash": "e7370f93d1d0cde622a1f8e1c04877d8463912d04d973331ad4851f04de6915a"
   }
  }
 },
 "nbformat": 4,
 "nbformat_minor": 2
}
